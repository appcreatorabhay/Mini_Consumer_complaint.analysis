{
 "cells": [
  {
   "cell_type": "code",
   "execution_count": 1,
   "id": "2c5bb288",
   "metadata": {},
   "outputs": [],
   "source": [
    "# Importing necessary libraries\n",
    "import pandas as pd\n",
    "import numpy as np\n",
    "import seaborn as sns\n",
    "import matplotlib.pyplot as plt\n",
    "from sklearn.preprocessing import LabelEncoder, StandardScaler\n",
    "from sklearn.decomposition import PCA\n",
    "from sklearn.model_selection import train_test_split\n",
    "from sklearn.linear_model import LogisticRegression\n",
    "from sklearn.tree import DecisionTreeClassifier\n",
    "from sklearn.ensemble import RandomForestClassifier, AdaBoostClassifier, GradientBoostingClassifier\n",
    "from sklearn.neighbors import KNeighborsClassifier\n",
    "from xgboost import XGBClassifier  # Import XGBClassifier from xgboost module\n",
    "from sklearn.metrics import accuracy_score\n",
    "\n",
    "\n",
    "\n",
    "\n",
    "\n",
    "\n",
    "\n",
    "\n",
    "\n",
    "\n",
    "\n",
    "\n"
   ]
  },
  {
   "cell_type": "code",
   "execution_count": null,
   "id": "f784f1a2",
   "metadata": {},
   "outputs": [],
   "source": [
    "# Read the Data\n",
    "train_data = pd.read_csv('C:/Users/KIIT/Datasets/Consumer_Complaints_test.csv')\n",
    "test_data = pd.read_csv('C:/Users/KIIT/Datasets/Consumer_Complaints_train.csv')\n",
    "train_data \n",
    "test_data  "
   ]
  },
  {
   "cell_type": "code",
   "execution_count": null,
   "id": "62f82bcc",
   "metadata": {},
   "outputs": [],
   "source": [
    "\n",
    "# Check data type for both datasets\n",
    "print(\"Train Data Types:\")\n",
    "print(train_data.dtypes)\n",
    "print(\"\\nTest Data Types:\")\n",
    "print(test_data.dtypes) \n"
   ]
  },
  {
   "cell_type": "code",
   "execution_count": null,
   "id": "19fc2521",
   "metadata": {},
   "outputs": [],
   "source": [
    "\n",
    "# Missing value analysis and dropping columns with more than 25% missing data\n",
    "threshold = len(train_data) * 0.25\n",
    "train_data.dropna(thresh=threshold, axis=1, inplace=True)\n",
    "test_data.dropna(thresh=threshold, axis=1, inplace=True) \n"
   ]
  },
  {
   "cell_type": "code",
   "execution_count": null,
   "id": "ffa074e2",
   "metadata": {},
   "outputs": [],
   "source": [
    "# Extracting Day, Month, and Year\n",
    "train_data['Date received'] = pd.to_datetime(train_data['Date received'])\n",
    "test_data['Date received'] = pd.to_datetime(test_data['Date received'])\n",
    "\n",
    "train_data['Month'] = train_data['Date received'].dt.month\n",
    "train_data['Year'] = train_data['Date received'].dt.year\n",
    "train_data['Day'] = train_data['Date received'].dt.day\n",
    "\n",
    "test_data['Month'] = test_data['Date received'].dt.month\n",
    "test_data['Year'] = test_data['Date received'].dt.year\n",
    "test_data['Day'] = test_data['Date received'].dt.day \n",
    "\n"
   ]
  },
  {
   "cell_type": "code",
   "execution_count": null,
   "id": "2ab07708",
   "metadata": {},
   "outputs": [],
   "source": [
    "\n",
    "# Extracting Day, Month, and Year\n",
    "train_data['Date received'] = pd.to_datetime(train_data['Date received'])\n",
    "test_data['Date received'] = pd.to_datetime(test_data['Date received'])\n"
   ]
  },
  {
   "cell_type": "code",
   "execution_count": null,
   "id": "6e2cc38b",
   "metadata": {},
   "outputs": [],
   "source": [
    "\n",
    "# Calculate Number of Days the Complaint was with the Company\n",
    "train_data['Days Held'] = (pd.to_datetime(train_data['Date sent to company']) - train_data['Date received']).dt.days\n",
    "test_data['Days Held'] = (pd.to_datetime(test_data['Date sent to company']) - test_data['Date received']).dt.days \n"
   ]
  },
  {
   "cell_type": "code",
   "execution_count": null,
   "id": "a3a17803",
   "metadata": {},
   "outputs": [],
   "source": [
    "\n",
    "# Drop unnecessary columns\n",
    "train_data.drop(columns=['Date received', 'Date sent to company', 'ZIP code', 'Complaint ID'], inplace=True)\n",
    "test_data.drop(columns=['Date received', 'Date sent to company', 'ZIP code', 'Complaint ID'], inplace=True)\n"
   ]
  },
  {
   "cell_type": "code",
   "execution_count": null,
   "id": "9fa4de0a",
   "metadata": {},
   "outputs": [],
   "source": [
    "\n",
    "\n",
    "\n",
    "# Impute Null value in “State” by Mode\n",
    "train_data['State'].fillna(train_data['State'].mode()[0], inplace=True)\n",
    "test_data['State'].fillna(test_data['State'].mode()[0], inplace=True)"
   ]
  },
  {
   "cell_type": "code",
   "execution_count": null,
   "id": "a41c5dc7",
   "metadata": {},
   "outputs": [],
   "source": [
    "\n",
    "# Create 'Week_Received' column\n",
    "train_data['Week_Received'] = train_data['Date received'].dt.week\n",
    "test_data['Week_Received'] = test_data['Date received'].dt.week"
   ]
  },
  {
   "cell_type": "code",
   "execution_count": null,
   "id": "c9d64d1a",
   "metadata": {},
   "outputs": [],
   "source": [
    "\n",
    "\n",
    "# Store data of disputed people\n",
    "disputed_cons = train_data[train_data['Consumer disputed?'] == 'Yes'] "
   ]
  },
  {
   "cell_type": "code",
   "execution_count": null,
   "id": "512674b2",
   "metadata": {},
   "outputs": [],
   "source": [
    "\n",
    "# Plot bar graph of total no of disputes of consumers\n",
    "sns.countplot(x='Consumer disputed?', data=train_data)\n",
    "plt.title('Total Number of Disputes')\n",
    "plt.show()"
   ]
  },
  {
   "cell_type": "code",
   "execution_count": null,
   "id": "7ecea232",
   "metadata": {},
   "outputs": [],
   "source": [
    "# Plot bar graph of total no of disputes products-wise\n",
    "sns.countplot(x='Product', hue='Consumer disputed?', data=train_data)\n",
    "plt.title('Disputes by Product')\n",
    "plt.xticks(rotation=90)\n",
    "plt.show()\n"
   ]
  },
  {
   "cell_type": "code",
   "execution_count": null,
   "id": "37a10a34",
   "metadata": {},
   "outputs": [],
   "source": [
    "# Plot bar graph of total no of disputes with Top Issues by Highest Disputes\n",
    "top_issues = train_data['Issue'].value_counts().nlargest(5).index\n",
    "sns.countplot(x='Issue', hue='Consumer disputed?', data=train_data[train_data['Issue'].isin(top_issues)])\n",
    "plt.title('Disputes by Top Issues')\n",
    "plt.xticks(rotation=90)\n",
    "plt.show()"
   ]
  },
  {
   "cell_type": "code",
   "execution_count": null,
   "id": "ac0f79fd",
   "metadata": {},
   "outputs": [],
   "source": [
    "# Plot bar graph of total no of disputes by State with Maximum Disputes\n",
    "state_disputes = train_data.groupby('State')['Consumer disputed?'].count().sort_values(ascending=False).head(10)\n",
    "state_disputes.plot(kind='bar')\n",
    "plt.title('Disputes by State')\n",
    "plt.xlabel('State')\n",
    "plt.ylabel('Number of Disputes')\n",
    "plt.show()"
   ]
  },
  {
   "cell_type": "code",
   "execution_count": null,
   "id": "8b08c7b9",
   "metadata": {},
   "outputs": [],
   "source": [
    "\n",
    "# Plot bar graph of total no of disputes Submitted Via different source\n",
    "sns.countplot(x='Submitted via', hue='Consumer disputed?', data=train_data)\n",
    "plt.title('Disputes by Submission Source')\n",
    "plt.show()"
   ]
  },
  {
   "cell_type": "code",
   "execution_count": null,
   "id": "617aeeda",
   "metadata": {},
   "outputs": [],
   "source": [
    "\n",
    "# Plot bar graph of total no of disputes where the Company's Response to the Complaints\n",
    "sns.countplot(x='Company response to consumer', hue='Consumer disputed?', data=train_data)\n",
    "plt.title('Disputes by Company Response')\n",
    "plt.xticks(rotation=90)\n",
    "plt.show()\n"
   ]
  },
  {
   "cell_type": "code",
   "execution_count": null,
   "id": "97a1b491",
   "metadata": {},
   "outputs": [],
   "source": [
    "\n",
    "# Plot bar graph of total no of disputes. Whether there are Disputes Instead of Timely Response\n",
    "sns.countplot(x='Timely response?', hue='Consumer disputed?', data=train_data)\n",
    "plt.title('Disputes by Timely Response')\n",
    "plt.show()"
   ]
  },
  {
   "cell_type": "code",
   "execution_count": null,
   "id": "9812f7fe",
   "metadata": {},
   "outputs": [],
   "source": [
    "\n",
    "\n",
    "# Plot bar graph of total no of disputes over Year Wise Complaints\n",
    "sns.countplot(x='Year', hue='Consumer disputed?', data=train_data)\n",
    "plt.title('Disputes over Year Wise Complaints')\n",
    "plt.show()"
   ]
  },
  {
   "cell_type": "code",
   "execution_count": null,
   "id": "64146d23",
   "metadata": {},
   "outputs": [],
   "source": [
    "\n",
    "# Plot bar graph of total no of disputes over Year Wise Disputes\n",
    "sns.countplot(x='Year', hue='Consumer disputed?', data=disputed_cons)\n",
    "plt.title('Disputes over Year Wise Disputes')\n",
    "plt.show()\n"
   ]
  },
  {
   "cell_type": "code",
   "execution_count": null,
   "id": "9d6bcd9b",
   "metadata": {},
   "outputs": [],
   "source": [
    "\n",
    "\n",
    "\n",
    "# Drop unnecessary columns for model building\n",
    "train_data.drop(columns=['Company', 'State', 'Year_Received', 'Days_held'], inplace=True)\n",
    "test_data.drop(columns=['Company', 'State', 'Year_Received', 'Days_held'], inplace=True)"
   ]
  },
  {
   "cell_type": "code",
   "execution_count": null,
   "id": "a9a5aa37",
   "metadata": {},
   "outputs": [],
   "source": [
    "\n",
    "\n",
    "# Change Consumer Disputed Column to 0 and 1\n",
    "label_encoder = LabelEncoder()\n",
    "train_data['Consumer disputed?'] = label_encoder.fit_transform(train_data['Consumer disputed?'])\n",
    "test_data['Consumer disputed?'] = label_encoder.transform(test_data['Consumer disputed?'])\n"
   ]
  },
  {
   "cell_type": "code",
   "execution_count": null,
   "id": "fe8925da",
   "metadata": {},
   "outputs": [],
   "source": [
    "\n",
    "\n",
    "# Create Dummy Variables for categorical features\n",
    "cat_cols = ['Product', 'Submitted via', 'Company response to consumer', 'Timely response?']\n",
    "train_data = pd.get_dummies(train_data, columns=cat_cols, drop_first=True)\n",
    "test_data = pd.get_dummies(test_data, columns=cat_cols, drop_first=True)\n"
   ]
  },
  {
   "cell_type": "code",
   "execution_count": null,
   "id": "504f8b4f",
   "metadata": {},
   "outputs": [],
   "source": [
    "\n",
    "\n",
    "\n",
    "# Scaling the Data Sets\n",
    "scaler = StandardScaler()\n",
    "X_train = train_data.drop(columns=['Consumer disputed?'])\n",
    "X_test = test_data.drop(columns=['Consumer disputed?'])\n",
    "\n",
    "X_train_scaled = scaler.fit_transform(X_train)\n",
    "X_test_scaled = scaler.transform(X_test)\n"
   ]
  },
  {
   "cell_type": "code",
   "execution_count": null,
   "id": "3dd7e02b",
   "metadata": {},
   "outputs": [],
   "source": [
    "# Make feature selection with PCA up to 80% of the information\n",
    "pca = PCA(n_components=0.8)\n",
    "X_train_pca = pca.fit_transform(X_train_scaled)\n",
    "X_test_pca = pca.transform(X_test_scaled)"
   ]
  },
  {
   "cell_type": "code",
   "execution_count": null,
   "id": "0fbd2a21",
   "metadata": {},
   "outputs": [],
   "source": [
    "\n",
    "# Splitting the Data Sets Into X and Y by the dependent and independent variables\n",
    "y_train = train_data['Consumer disputed?']\n",
    "y_test = test_data['Consumer disputed?']\n"
   ]
  },
  {
   "cell_type": "code",
   "execution_count": null,
   "id": "d836e6b1",
   "metadata": {},
   "outputs": [],
   "source": [
    "# Build given models and measure their test and validation accuracy\n",
    "models = {\n",
    "    \"Logistic Regression\": LogisticRegression(),\n",
    "    \"Decision Tree\": DecisionTreeClassifier(),\n",
    "    \"Random Forest\": RandomForestClassifier(),\n",
    "    \"AdaBoost\": AdaBoostClassifier(),\n",
    "    \"Gradient Boosting\": GradientBoostingClassifier(),\n",
    "    \"KNeighbors\": KNeighborsClassifier(),\n",
    "    \"XGBoost\": XGBClassifier()\n",
    "}\n",
    "\n",
    "for name, model in models.items():\n",
    "    model.fit(X_train_pca, y_train)\n",
    "    train_pred = model.predict(X_train_pca)\n",
    "    test_pred = model.predict(X_test_pca)\n",
    "    train_acc = accuracy_score(y_train, train_pred)\n",
    "    test_acc = accuracy_score(y_test, test_pred)\n",
    "    print(f\"{name}: Train Accuracy: {train_acc}, Test Accuracy: {test_acc}\") "
   ]
  },
  {
   "cell_type": "code",
   "execution_count": null,
   "id": "d2d82db4",
   "metadata": {},
   "outputs": [],
   "source": [
    "\n",
    "\n",
    "\n",
    "# Predict the outcome for the test file\n",
    "best_model = models[\"Random Forest\"]\n",
    "test_data['Consumer disputed?'] = best_model.predict(X_test_pca)\n",
    "\n",
    "# Save the output\n",
    "test_data.to_csv(\"predicted_test_data.csv\", index=False)"
   ]
  },
  {
   "cell_type": "code",
   "execution_count": null,
   "id": "abd08fd7",
   "metadata": {},
   "outputs": [],
   "source": []
  }
 ],
 "metadata": {
  "kernelspec": {
   "display_name": "Python 3 (ipykernel)",
   "language": "python",
   "name": "python3"
  },
  "language_info": {
   "codemirror_mode": {
    "name": "ipython",
    "version": 3
   },
   "file_extension": ".py",
   "mimetype": "text/x-python",
   "name": "python",
   "nbconvert_exporter": "python",
   "pygments_lexer": "ipython3",
   "version": "3.11.4"
  }
 },
 "nbformat": 4,
 "nbformat_minor": 5
}
